{
 "cells": [
  {
   "cell_type": "markdown",
   "metadata": {},
   "source": [
    "## Variable Assignment"
   ]
  },
  {
   "cell_type": "code",
   "execution_count": 5,
   "metadata": {},
   "outputs": [],
   "source": [
    "a <- 3 + 3"
   ]
  },
  {
   "cell_type": "code",
   "execution_count": 6,
   "metadata": {},
   "outputs": [
    {
     "name": "stdout",
     "output_type": "stream",
     "text": [
      "[1] 6\n"
     ]
    }
   ],
   "source": [
    "print (a)"
   ]
  },
  {
   "cell_type": "code",
   "execution_count": 7,
   "metadata": {},
   "outputs": [],
   "source": [
    "greetings <- \"hey, buddy!\""
   ]
  },
  {
   "cell_type": "code",
   "execution_count": 8,
   "metadata": {},
   "outputs": [
    {
     "name": "stdout",
     "output_type": "stream",
     "text": [
      "[1] \"hey, buddy!\"\n"
     ]
    }
   ],
   "source": [
    "print(greetings)"
   ]
  },
  {
   "cell_type": "code",
   "execution_count": 9,
   "metadata": {},
   "outputs": [],
   "source": [
    "some_logic <- TRUE"
   ]
  },
  {
   "cell_type": "markdown",
   "metadata": {},
   "source": [
    "## The Vector"
   ]
  },
  {
   "cell_type": "code",
   "execution_count": 11,
   "metadata": {},
   "outputs": [],
   "source": [
    "dat <- c(4,5,6,23,2)"
   ]
  },
  {
   "cell_type": "code",
   "execution_count": 12,
   "metadata": {},
   "outputs": [
    {
     "name": "stdout",
     "output_type": "stream",
     "text": [
      "[1]  4  5  6 23  2\n"
     ]
    }
   ],
   "source": [
    "print(dat)"
   ]
  },
  {
   "cell_type": "code",
   "execution_count": 15,
   "metadata": {},
   "outputs": [],
   "source": [
    "v1 <- c(1,2,3)\n",
    "v2 <- c(5,4,3)\n",
    "v <- c(v1, v2)"
   ]
  },
  {
   "cell_type": "code",
   "execution_count": 16,
   "metadata": {},
   "outputs": [
    {
     "name": "stdout",
     "output_type": "stream",
     "text": [
      "[1] 1 2 3 5 4 3\n"
     ]
    }
   ],
   "source": [
    "print(v)"
   ]
  },
  {
   "cell_type": "code",
   "execution_count": 17,
   "metadata": {},
   "outputs": [],
   "source": [
    "my_vec <- rep(0,10)"
   ]
  },
  {
   "cell_type": "code",
   "execution_count": 18,
   "metadata": {},
   "outputs": [
    {
     "name": "stdout",
     "output_type": "stream",
     "text": [
      " [1] 0 0 0 0 0 0 0 0 0 0\n"
     ]
    }
   ],
   "source": [
    "print(my_vec)"
   ]
  },
  {
   "cell_type": "code",
   "execution_count": 27,
   "metadata": {},
   "outputs": [],
   "source": [
    "m <- 1:20"
   ]
  },
  {
   "cell_type": "code",
   "execution_count": 28,
   "metadata": {},
   "outputs": [
    {
     "data": {
      "text/html": [
       "<ol class=list-inline>\n",
       "\t<li>1</li>\n",
       "\t<li>2</li>\n",
       "\t<li>3</li>\n",
       "\t<li>4</li>\n",
       "\t<li>5</li>\n",
       "\t<li>6</li>\n",
       "\t<li>7</li>\n",
       "\t<li>8</li>\n",
       "\t<li>9</li>\n",
       "\t<li>10</li>\n",
       "\t<li>11</li>\n",
       "\t<li>12</li>\n",
       "\t<li>13</li>\n",
       "\t<li>14</li>\n",
       "\t<li>15</li>\n",
       "\t<li>16</li>\n",
       "\t<li>17</li>\n",
       "\t<li>18</li>\n",
       "\t<li>19</li>\n",
       "\t<li>20</li>\n",
       "</ol>\n"
      ],
      "text/latex": [
       "\\begin{enumerate*}\n",
       "\\item 1\n",
       "\\item 2\n",
       "\\item 3\n",
       "\\item 4\n",
       "\\item 5\n",
       "\\item 6\n",
       "\\item 7\n",
       "\\item 8\n",
       "\\item 9\n",
       "\\item 10\n",
       "\\item 11\n",
       "\\item 12\n",
       "\\item 13\n",
       "\\item 14\n",
       "\\item 15\n",
       "\\item 16\n",
       "\\item 17\n",
       "\\item 18\n",
       "\\item 19\n",
       "\\item 20\n",
       "\\end{enumerate*}\n"
      ],
      "text/markdown": [
       "1. 1\n",
       "2. 2\n",
       "3. 3\n",
       "4. 4\n",
       "5. 5\n",
       "6. 6\n",
       "7. 7\n",
       "8. 8\n",
       "9. 9\n",
       "10. 10\n",
       "11. 11\n",
       "12. 12\n",
       "13. 13\n",
       "14. 14\n",
       "15. 15\n",
       "16. 16\n",
       "17. 17\n",
       "18. 18\n",
       "19. 19\n",
       "20. 20\n",
       "\n",
       "\n"
      ],
      "text/plain": [
       " [1]  1  2  3  4  5  6  7  8  9 10 11 12 13 14 15 16 17 18 19 20"
      ]
     },
     "metadata": {},
     "output_type": "display_data"
    }
   ],
   "source": [
    "m"
   ]
  },
  {
   "cell_type": "code",
   "execution_count": 22,
   "metadata": {},
   "outputs": [],
   "source": [
    "v3 <- seq(-10, 10, 2)"
   ]
  },
  {
   "cell_type": "code",
   "execution_count": 23,
   "metadata": {},
   "outputs": [
    {
     "data": {
      "text/html": [
       "<ol class=list-inline>\n",
       "\t<li>-10</li>\n",
       "\t<li>-8</li>\n",
       "\t<li>-6</li>\n",
       "\t<li>-4</li>\n",
       "\t<li>-2</li>\n",
       "\t<li>0</li>\n",
       "\t<li>2</li>\n",
       "\t<li>4</li>\n",
       "\t<li>6</li>\n",
       "\t<li>8</li>\n",
       "\t<li>10</li>\n",
       "</ol>\n"
      ],
      "text/latex": [
       "\\begin{enumerate*}\n",
       "\\item -10\n",
       "\\item -8\n",
       "\\item -6\n",
       "\\item -4\n",
       "\\item -2\n",
       "\\item 0\n",
       "\\item 2\n",
       "\\item 4\n",
       "\\item 6\n",
       "\\item 8\n",
       "\\item 10\n",
       "\\end{enumerate*}\n"
      ],
      "text/markdown": [
       "1. -10\n",
       "2. -8\n",
       "3. -6\n",
       "4. -4\n",
       "5. -2\n",
       "6. 0\n",
       "7. 2\n",
       "8. 4\n",
       "9. 6\n",
       "10. 8\n",
       "11. 10\n",
       "\n",
       "\n"
      ],
      "text/plain": [
       " [1] -10  -8  -6  -4  -2   0   2   4   6   8  10"
      ]
     },
     "metadata": {},
     "output_type": "display_data"
    }
   ],
   "source": [
    "v3"
   ]
  },
  {
   "cell_type": "code",
   "execution_count": 32,
   "metadata": {},
   "outputs": [],
   "source": [
    "u <- -2:2"
   ]
  },
  {
   "cell_type": "code",
   "execution_count": 33,
   "metadata": {},
   "outputs": [
    {
     "data": {
      "text/html": [
       "<ol class=list-inline>\n",
       "\t<li>-2</li>\n",
       "\t<li>-1</li>\n",
       "\t<li>0</li>\n",
       "\t<li>1</li>\n",
       "\t<li>2</li>\n",
       "</ol>\n"
      ],
      "text/latex": [
       "\\begin{enumerate*}\n",
       "\\item -2\n",
       "\\item -1\n",
       "\\item 0\n",
       "\\item 1\n",
       "\\item 2\n",
       "\\end{enumerate*}\n"
      ],
      "text/markdown": [
       "1. -2\n",
       "2. -1\n",
       "3. 0\n",
       "4. 1\n",
       "5. 2\n",
       "\n",
       "\n"
      ],
      "text/plain": [
       "[1] -2 -1  0  1  2"
      ]
     },
     "metadata": {},
     "output_type": "display_data"
    }
   ],
   "source": [
    "u"
   ]
  },
  {
   "cell_type": "markdown",
   "metadata": {},
   "source": [
    "## Indexing and Slicing"
   ]
  },
  {
   "cell_type": "code",
   "execution_count": 34,
   "metadata": {},
   "outputs": [],
   "source": [
    "v <- rnorm(5)"
   ]
  },
  {
   "cell_type": "code",
   "execution_count": 35,
   "metadata": {},
   "outputs": [
    {
     "data": {
      "text/html": [
       "<ol class=list-inline>\n",
       "\t<li>-0.00982473781042525</li>\n",
       "\t<li>1.44752364144223</li>\n",
       "\t<li>-2.19923131281333</li>\n",
       "\t<li>1.190558812482</li>\n",
       "\t<li>0.160455861056002</li>\n",
       "</ol>\n"
      ],
      "text/latex": [
       "\\begin{enumerate*}\n",
       "\\item -0.00982473781042525\n",
       "\\item 1.44752364144223\n",
       "\\item -2.19923131281333\n",
       "\\item 1.190558812482\n",
       "\\item 0.160455861056002\n",
       "\\end{enumerate*}\n"
      ],
      "text/markdown": [
       "1. -0.00982473781042525\n",
       "2. 1.44752364144223\n",
       "3. -2.19923131281333\n",
       "4. 1.190558812482\n",
       "5. 0.160455861056002\n",
       "\n",
       "\n"
      ],
      "text/plain": [
       "[1] -0.009824738  1.447523641 -2.199231313  1.190558812  0.160455861"
      ]
     },
     "metadata": {},
     "output_type": "display_data"
    }
   ],
   "source": [
    "v"
   ]
  },
  {
   "cell_type": "code",
   "execution_count": 36,
   "metadata": {},
   "outputs": [
    {
     "data": {
      "text/html": [
       "1.44752364144223"
      ],
      "text/latex": [
       "1.44752364144223"
      ],
      "text/markdown": [
       "1.44752364144223"
      ],
      "text/plain": [
       "[1] 1.447524"
      ]
     },
     "metadata": {},
     "output_type": "display_data"
    }
   ],
   "source": [
    "v[2]"
   ]
  },
  {
   "cell_type": "code",
   "execution_count": 37,
   "metadata": {},
   "outputs": [
    {
     "data": {
      "text/html": [
       "<ol class=list-inline>\n",
       "\t<li>-0.00982473781042525</li>\n",
       "\t<li>1.44752364144223</li>\n",
       "\t<li>-2.19923131281333</li>\n",
       "</ol>\n"
      ],
      "text/latex": [
       "\\begin{enumerate*}\n",
       "\\item -0.00982473781042525\n",
       "\\item 1.44752364144223\n",
       "\\item -2.19923131281333\n",
       "\\end{enumerate*}\n"
      ],
      "text/markdown": [
       "1. -0.00982473781042525\n",
       "2. 1.44752364144223\n",
       "3. -2.19923131281333\n",
       "\n",
       "\n"
      ],
      "text/plain": [
       "[1] -0.009824738  1.447523641 -2.199231313"
      ]
     },
     "metadata": {},
     "output_type": "display_data"
    }
   ],
   "source": [
    "v [1:3]"
   ]
  },
  {
   "cell_type": "code",
   "execution_count": 38,
   "metadata": {},
   "outputs": [
    {
     "data": {
      "text/html": [
       "<ol class=list-inline>\n",
       "\t<li>1.44752364144223</li>\n",
       "\t<li>-2.19923131281333</li>\n",
       "\t<li>1.190558812482</li>\n",
       "\t<li>0.160455861056002</li>\n",
       "</ol>\n"
      ],
      "text/latex": [
       "\\begin{enumerate*}\n",
       "\\item 1.44752364144223\n",
       "\\item -2.19923131281333\n",
       "\\item 1.190558812482\n",
       "\\item 0.160455861056002\n",
       "\\end{enumerate*}\n"
      ],
      "text/markdown": [
       "1. 1.44752364144223\n",
       "2. -2.19923131281333\n",
       "3. 1.190558812482\n",
       "4. 0.160455861056002\n",
       "\n",
       "\n"
      ],
      "text/plain": [
       "[1]  1.4475236 -2.1992313  1.1905588  0.1604559"
      ]
     },
     "metadata": {},
     "output_type": "display_data"
    }
   ],
   "source": [
    "v[2:5]"
   ]
  },
  {
   "cell_type": "code",
   "execution_count": 39,
   "metadata": {},
   "outputs": [
    {
     "data": {
      "text/html": [
       "<ol class=list-inline>\n",
       "\t<li>-0.00982473781042525</li>\n",
       "\t<li>-2.19923131281333</li>\n",
       "</ol>\n"
      ],
      "text/latex": [
       "\\begin{enumerate*}\n",
       "\\item -0.00982473781042525\n",
       "\\item -2.19923131281333\n",
       "\\end{enumerate*}\n"
      ],
      "text/markdown": [
       "1. -0.00982473781042525\n",
       "2. -2.19923131281333\n",
       "\n",
       "\n"
      ],
      "text/plain": [
       "[1] -0.009824738 -2.199231313"
      ]
     },
     "metadata": {},
     "output_type": "display_data"
    }
   ],
   "source": [
    "v[c(1,3)] # 选择1和3位置的数字"
   ]
  },
  {
   "cell_type": "code",
   "execution_count": 40,
   "metadata": {},
   "outputs": [
    {
     "name": "stdout",
     "output_type": "stream",
     "text": [
      "[1] -0.009824738  1.447523641 -2.199231313  1.190558812  0.160455861\n"
     ]
    }
   ],
   "source": [
    "print(v)"
   ]
  },
  {
   "cell_type": "code",
   "execution_count": 41,
   "metadata": {},
   "outputs": [
    {
     "data": {
      "text/html": [
       "<ol class=list-inline>\n",
       "\t<li>-0.00982473781042525</li>\n",
       "\t<li>1.44752364144223</li>\n",
       "\t<li>-2.19923131281333</li>\n",
       "\t<li>1.190558812482</li>\n",
       "\t<li>0.160455861056002</li>\n",
       "</ol>\n"
      ],
      "text/latex": [
       "\\begin{enumerate*}\n",
       "\\item -0.00982473781042525\n",
       "\\item 1.44752364144223\n",
       "\\item -2.19923131281333\n",
       "\\item 1.190558812482\n",
       "\\item 0.160455861056002\n",
       "\\end{enumerate*}\n"
      ],
      "text/markdown": [
       "1. -0.00982473781042525\n",
       "2. 1.44752364144223\n",
       "3. -2.19923131281333\n",
       "4. 1.190558812482\n",
       "5. 0.160455861056002\n",
       "\n",
       "\n"
      ],
      "text/plain": [
       "[1] -0.009824738  1.447523641 -2.199231313  1.190558812  0.160455861"
      ]
     },
     "metadata": {},
     "output_type": "display_data"
    }
   ],
   "source": [
    "v"
   ]
  },
  {
   "cell_type": "code",
   "execution_count": 42,
   "metadata": {},
   "outputs": [
    {
     "data": {
      "text/html": [
       "<ol class=list-inline>\n",
       "\t<li>-0.00982473781042525</li>\n",
       "\t<li>1.44752364144223</li>\n",
       "\t<li>1.190558812482</li>\n",
       "\t<li>0.160455861056002</li>\n",
       "</ol>\n"
      ],
      "text/latex": [
       "\\begin{enumerate*}\n",
       "\\item -0.00982473781042525\n",
       "\\item 1.44752364144223\n",
       "\\item 1.190558812482\n",
       "\\item 0.160455861056002\n",
       "\\end{enumerate*}\n"
      ],
      "text/markdown": [
       "1. -0.00982473781042525\n",
       "2. 1.44752364144223\n",
       "3. 1.190558812482\n",
       "4. 0.160455861056002\n",
       "\n",
       "\n"
      ],
      "text/plain": [
       "[1] -0.009824738  1.447523641  1.190558812  0.160455861"
      ]
     },
     "metadata": {},
     "output_type": "display_data"
    }
   ],
   "source": [
    "v[-3]"
   ]
  },
  {
   "cell_type": "markdown",
   "metadata": {},
   "source": [
    "## Assignment with Indexing"
   ]
  },
  {
   "cell_type": "code",
   "execution_count": 43,
   "metadata": {},
   "outputs": [],
   "source": [
    "u <- c(5, 6, 8, 22)"
   ]
  },
  {
   "cell_type": "code",
   "execution_count": 44,
   "metadata": {},
   "outputs": [],
   "source": [
    "u[1] <- 0"
   ]
  },
  {
   "cell_type": "code",
   "execution_count": 45,
   "metadata": {},
   "outputs": [
    {
     "name": "stdout",
     "output_type": "stream",
     "text": [
      "[1]  0  6  8 22\n"
     ]
    }
   ],
   "source": [
    "print(u)"
   ]
  },
  {
   "cell_type": "code",
   "execution_count": 46,
   "metadata": {},
   "outputs": [],
   "source": [
    "u3 <- u[1:3]"
   ]
  },
  {
   "cell_type": "code",
   "execution_count": 48,
   "metadata": {},
   "outputs": [
    {
     "name": "stdout",
     "output_type": "stream",
     "text": [
      "[1] 0 6 8\n"
     ]
    }
   ],
   "source": [
    "print(u3)"
   ]
  },
  {
   "cell_type": "code",
   "execution_count": 50,
   "metadata": {},
   "outputs": [],
   "source": [
    "v <- c(10, 20, 30)"
   ]
  },
  {
   "cell_type": "code",
   "execution_count": 51,
   "metadata": {},
   "outputs": [],
   "source": [
    "v[1:2] <- 0"
   ]
  },
  {
   "cell_type": "code",
   "execution_count": 52,
   "metadata": {},
   "outputs": [
    {
     "name": "stdout",
     "output_type": "stream",
     "text": [
      "[1]  0  0 30\n"
     ]
    }
   ],
   "source": [
    "print(v)"
   ]
  },
  {
   "cell_type": "code",
   "execution_count": 54,
   "metadata": {},
   "outputs": [],
   "source": [
    "v1 <- c(10, 20, 30, 40, 50)\n",
    "v2 <- v1[c(1, 3, 5)]"
   ]
  },
  {
   "cell_type": "code",
   "execution_count": 55,
   "metadata": {},
   "outputs": [
    {
     "data": {
      "text/html": [
       "<ol class=list-inline>\n",
       "\t<li>10</li>\n",
       "\t<li>30</li>\n",
       "\t<li>50</li>\n",
       "</ol>\n"
      ],
      "text/latex": [
       "\\begin{enumerate*}\n",
       "\\item 10\n",
       "\\item 30\n",
       "\\item 50\n",
       "\\end{enumerate*}\n"
      ],
      "text/markdown": [
       "1. 10\n",
       "2. 30\n",
       "3. 50\n",
       "\n",
       "\n"
      ],
      "text/plain": [
       "[1] 10 30 50"
      ]
     },
     "metadata": {},
     "output_type": "display_data"
    }
   ],
   "source": [
    "v2"
   ]
  },
  {
   "cell_type": "code",
   "execution_count": 56,
   "metadata": {},
   "outputs": [
    {
     "name": "stdout",
     "output_type": "stream",
     "text": [
      "[1] 10 40\n"
     ]
    }
   ],
   "source": [
    "v1 <- seq(10, 50, 10) #sequence = 10, 20, 30, 40, 50\n",
    "idx <- c(TRUE, FALSE, FALSE, TRUE, FALSE) # 选取10和40\n",
    "v2 <- v1[idx]\n",
    "print(v2)"
   ]
  },
  {
   "cell_type": "code",
   "execution_count": 58,
   "metadata": {},
   "outputs": [
    {
     "name": "stdout",
     "output_type": "stream",
     "text": [
      "[1] 24 35 46\n"
     ]
    }
   ],
   "source": [
    "v <- c(44, 55, 66)\n",
    "v2 <- v -20\n",
    "print(v2)"
   ]
  },
  {
   "cell_type": "code",
   "execution_count": 59,
   "metadata": {},
   "outputs": [
    {
     "data": {
      "text/html": [
       "<ol class=list-inline>\n",
       "\t<li>8.8</li>\n",
       "\t<li>11</li>\n",
       "\t<li>13.2</li>\n",
       "</ol>\n"
      ],
      "text/latex": [
       "\\begin{enumerate*}\n",
       "\\item 8.8\n",
       "\\item 11\n",
       "\\item 13.2\n",
       "\\end{enumerate*}\n"
      ],
      "text/markdown": [
       "1. 8.8\n",
       "2. 11\n",
       "3. 13.2\n",
       "\n",
       "\n"
      ],
      "text/plain": [
       "[1]  8.8 11.0 13.2"
      ]
     },
     "metadata": {},
     "output_type": "display_data"
    }
   ],
   "source": [
    "v / 5"
   ]
  },
  {
   "cell_type": "code",
   "execution_count": null,
   "metadata": {},
   "outputs": [],
   "source": []
  }
 ],
 "metadata": {
  "kernelspec": {
   "display_name": "R",
   "language": "R",
   "name": "ir"
  },
  "language_info": {
   "codemirror_mode": "r",
   "file_extension": ".r",
   "mimetype": "text/x-r-source",
   "name": "R",
   "pygments_lexer": "r",
   "version": "3.6.1"
  }
 },
 "nbformat": 4,
 "nbformat_minor": 4
}
